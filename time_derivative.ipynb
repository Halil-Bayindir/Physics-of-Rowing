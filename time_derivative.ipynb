{
 "cells": [
  {
   "cell_type": "code",
   "execution_count": 1,
   "metadata": {
    "id": "erGinv6rAIb2",
    "tags": []
   },
   "outputs": [],
   "source": [
    "import numpy as np\n",
    "import matplotlib.pyplot as plt"
   ]
  },
  {
   "cell_type": "code",
   "execution_count": 35,
   "metadata": {
    "id": "JS9_YfYzAPj2",
    "tags": []
   },
   "outputs": [],
   "source": [
    "tstart=0\n",
    "tend=2\n",
    "Nt = 10\n",
    "time_data = np.linspace(tstart,tend,Nt)\n",
    "\n",
    "def xoft(t):\n",
    "    return t**5+2*t**2\n",
    "\n",
    "def dxdt(t):\n",
    "    return 5*t**4+4*t\n",
    "\n",
    "\n",
    "position_data = xoft(time_data)"
   ]
  },
  {
   "cell_type": "code",
   "execution_count": 36,
   "metadata": {
    "colab": {
     "base_uri": "https://localhost:8080/",
     "height": 449
    },
    "id": "g2XKFGBcAmWr",
    "outputId": "e7e65cd0-5e99-4e8c-e2b3-4376174a935a",
    "tags": []
   },
   "outputs": [
    {
     "data": {
      "image/png": "[encoded data removed]",
      "text/plain": [
       "<Figure size 640x480 with 1 Axes>"
      ]
     },
     "metadata": {},
     "output_type": "display_data"
    }
   ],
   "source": [
    "plt.plot(time_data, position_data, '.')\n",
    "plt.xlabel(\"time\")\n",
    "plt.ylabel(\"position\")\n",
    "plt.show()"
   ]
  },
  {
   "cell_type": "code",
   "execution_count": 39,
   "metadata": {
    "tags": []
   },
   "outputs": [
    {
     "data": {
      "text/plain": [
       "\u001b[0;31mSignature:\u001b[0m \u001b[0mnp\u001b[0m\u001b[0;34m.\u001b[0m\u001b[0mgradient\u001b[0m\u001b[0;34m(\u001b[0m\u001b[0mf\u001b[0m\u001b[0;34m,\u001b[0m \u001b[0;34m*\u001b[0m\u001b[0mvarargs\u001b[0m\u001b[0;34m,\u001b[0m \u001b[0maxis\u001b[0m\u001b[0;34m=\u001b[0m\u001b[0;32mNone\u001b[0m\u001b[0;34m,\u001b[0m \u001b[0medge_order\u001b[0m\u001b[0;34m=\u001b[0m\u001b[0;36m1\u001b[0m\u001b[0;34m)\u001b[0m\u001b[0;34m\u001b[0m\u001b[0;34m\u001b[0m\u001b[0m\n",
       "\u001b[0;31mDocstring:\u001b[0m\n",
       "Return the gradient of an N-dimensional array.\n",
       "\n",
       "The gradient is computed using second order accurate central differences\n",
       "in the interior points and either first or second order accurate one-sides\n",
       "(forward or backwards) differences at the boundaries.\n",
       "The returned gradient hence has the same shape as the input array.\n",
       "\n",
       "Parameters\n",
       "----------\n",
       "f : array_like\n",
       "    An N-dimensional array containing samples of a scalar function.\n",
       "varargs : list of scalar or array, optional\n",
       "    Spacing between f values. Default unitary spacing for all dimensions.\n",
       "    Spacing can be specified using:\n",
       "\n",
       "    1. single scalar to specify a sample distance for all dimensions.\n",
       "    2. N scalars to specify a constant sample distance for each dimension.\n",
       "       i.e. `dx`, `dy`, `dz`, ...\n",
       "    3. N arrays to specify the coordinates of the values along each\n",
       "       dimension of F. The length of the array must match the size of\n",
       "       the corresponding dimension\n",
       "    4. Any combination of N scalars/arrays with the meaning of 2. and 3.\n",
       "\n",
       "    If `axis` is given, the number of varargs must equal the number of axes.\n",
       "    Default: 1.\n",
       "\n",
       "edge_order : {1, 2}, optional\n",
       "    Gradient is calculated using N-th order accurate differences\n",
       "    at the boundaries. Default: 1.\n",
       "\n",
       "    .. versionadded:: 1.9.1\n",
       "\n",
       "axis : None or int or tuple of ints, optional\n",
       "    Gradient is calculated only along the given axis or axes\n",
       "    The default (axis = None) is to calculate the gradient for all the axes\n",
       "    of the input array. axis may be negative, in which case it counts from\n",
       "    the last to the first axis.\n",
       "\n",
       "    .. versionadded:: 1.11.0\n",
       "\n",
       "Returns\n",
       "-------\n",
       "gradient : ndarray or list of ndarray\n",
       "    A list of ndarrays (or a single ndarray if there is only one dimension)\n",
       "    corresponding to the derivatives of f with respect to each dimension.\n",
       "    Each derivative has the same shape as f.\n",
       "\n",
       "Examples\n",
       "--------\n",
       ">>> f = np.array([1, 2, 4, 7, 11, 16], dtype=float)\n",
       ">>> np.gradient(f)\n",
       "array([1. , 1.5, 2.5, 3.5, 4.5, 5. ])\n",
       ">>> np.gradient(f, 2)\n",
       "array([0.5 ,  0.75,  1.25,  1.75,  2.25,  2.5 ])\n",
       "\n",
       "Spacing can be also specified with an array that represents the coordinates\n",
       "of the values F along the dimensions.\n",
       "For instance a uniform spacing:\n",
       "\n",
       ">>> x = np.arange(f.size)\n",
       ">>> np.gradient(f, x)\n",
       "array([1. ,  1.5,  2.5,  3.5,  4.5,  5. ])\n",
       "\n",
       "Or a non uniform one:\n",
       "\n",
       ">>> x = np.array([0., 1., 1.5, 3.5, 4., 6.], dtype=float)\n",
       ">>> np.gradient(f, x)\n",
       "array([1. ,  3. ,  3.5,  6.7,  6.9,  2.5])\n",
       "\n",
       "For two dimensional arrays, the return will be two arrays ordered by\n",
       "axis. In this example the first array stands for the gradient in\n",
       "rows and the second one in columns direction:\n",
       "\n",
       ">>> np.gradient(np.array([[1, 2, 6], [3, 4, 5]], dtype=float))\n",
       "[array([[ 2.,  2., -1.],\n",
       "       [ 2.,  2., -1.]]), array([[1. , 2.5, 4. ],\n",
       "       [1. , 1. , 1. ]])]\n",
       "\n",
       "In this example the spacing is also specified:\n",
       "uniform for axis=0 and non uniform for axis=1\n",
       "\n",
       ">>> dx = 2.\n",
       ">>> y = [1., 1.5, 3.5]\n",
       ">>> np.gradient(np.array([[1, 2, 6], [3, 4, 5]], dtype=float), dx, y)\n",
       "[array([[ 1. ,  1. , -0.5],\n",
       "       [ 1. ,  1. , -0.5]]), array([[2. , 2. , 2. ],\n",
       "       [2. , 1.7, 0.5]])]\n",
       "\n",
       "It is possible to specify how boundaries are treated using `edge_order`\n",
       "\n",
       ">>> x = np.array([0, 1, 2, 3, 4])\n",
       ">>> f = x**2\n",
       ">>> np.gradient(f, edge_order=1)\n",
       "array([1.,  2.,  4.,  6.,  7.])\n",
       ">>> np.gradient(f, edge_order=2)\n",
       "array([0., 2., 4., 6., 8.])\n",
       "\n",
       "The `axis` keyword can be used to specify a subset of axes of which the\n",
       "gradient is calculated\n",
       "\n",
       ">>> np.gradient(np.array([[1, 2, 6], [3, 4, 5]], dtype=float), axis=0)\n",
       "array([[ 2.,  2., -1.],\n",
       "       [ 2.,  2., -1.]])\n",
       "\n",
       "Notes\n",
       "-----\n",
       "Assuming that :math:`f\\in C^{3}` (i.e., :math:`f` has at least 3 continuous\n",
       "derivatives) and let :math:`h_{*}` be a non-homogeneous stepsize, we\n",
       "minimize the \"consistency error\" :math:`\\eta_{i}` between the true gradient\n",
       "and its estimate from a linear combination of the neighboring grid-points:\n",
       "\n",
       ".. math::\n",
       "\n",
       "    \\eta_{i} = f_{i}^{\\left(1\\right)} -\n",
       "                \\left[ \\alpha f\\left(x_{i}\\right) +\n",
       "                        \\beta f\\left(x_{i} + h_{d}\\right) +\n",
       "                        \\gamma f\\left(x_{i}-h_{s}\\right)\n",
       "                \\right]\n",
       "\n",
       "By substituting :math:`f(x_{i} + h_{d})` and :math:`f(x_{i} - h_{s})`\n",
       "with their Taylor series expansion, this translates into solving\n",
       "the following the linear system:\n",
       "\n",
       ".. math::\n",
       "\n",
       "    \\left\\{\n",
       "        \\begin{array}{r}\n",
       "            \\alpha+\\beta+\\gamma=0 \\\\\n",
       "            \\beta h_{d}-\\gamma h_{s}=1 \\\\\n",
       "            \\beta h_{d}^{2}+\\gamma h_{s}^{2}=0\n",
       "        \\end{array}\n",
       "    \\right.\n",
       "\n",
       "The resulting approximation of :math:`f_{i}^{(1)}` is the following:\n",
       "\n",
       ".. math::\n",
       "\n",
       "    \\hat f_{i}^{(1)} =\n",
       "        \\frac{\n",
       "            h_{s}^{2}f\\left(x_{i} + h_{d}\\right)\n",
       "            + \\left(h_{d}^{2} - h_{s}^{2}\\right)f\\left(x_{i}\\right)\n",
       "            - h_{d}^{2}f\\left(x_{i}-h_{s}\\right)}\n",
       "            { h_{s}h_{d}\\left(h_{d} + h_{s}\\right)}\n",
       "        + \\mathcal{O}\\left(\\frac{h_{d}h_{s}^{2}\n",
       "                            + h_{s}h_{d}^{2}}{h_{d}\n",
       "                            + h_{s}}\\right)\n",
       "\n",
       "It is worth noting that if :math:`h_{s}=h_{d}`\n",
       "(i.e., data are evenly spaced)\n",
       "we find the standard second order approximation:\n",
       "\n",
       ".. math::\n",
       "\n",
       "    \\hat f_{i}^{(1)}=\n",
       "        \\frac{f\\left(x_{i+1}\\right) - f\\left(x_{i-1}\\right)}{2h}\n",
       "        + \\mathcal{O}\\left(h^{2}\\right)\n",
       "\n",
       "With a similar procedure the forward/backward approximations used for\n",
       "boundaries can be derived.\n",
       "\n",
       "References\n",
       "----------\n",
       ".. [1]  Quarteroni A., Sacco R., Saleri F. (2007) Numerical Mathematics\n",
       "        (Texts in Applied Mathematics). New York: Springer.\n",
       ".. [2]  Durran D. R. (1999) Numerical Methods for Wave Equations\n",
       "        in Geophysical Fluid Dynamics. New York: Springer.\n",
       ".. [3]  Fornberg B. (1988) Generation of Finite Difference Formulas on\n",
       "        Arbitrarily Spaced Grids,\n",
       "        Mathematics of Computation 51, no. 184 : 699-706.\n",
       "        `PDF <http://www.ams.org/journals/mcom/1988-51-184/\n",
       "        S0025-5718-1988-0935077-0/S0025-5718-1988-0935077-0.pdf>`_.\n",
       "\u001b[0;31mFile:\u001b[0m      ~/micromamba/envs/fec/lib/python3.11/site-packages/numpy/lib/function_base.py\n",
       "\u001b[0;31mType:\u001b[0m      function"
      ]
     },
     "metadata": {},
     "output_type": "display_data"
    }
   ],
   "source": [
    "np.gradient?"
   ]
  },
  {
   "cell_type": "code",
   "execution_count": 37,
   "metadata": {
    "id": "O2s_xlbCBNzn",
    "tags": []
   },
   "outputs": [],
   "source": [
    "velocity_data = np.gradient(position_data, time_data)"
   ]
  },
  {
   "cell_type": "code",
   "execution_count": 46,
   "metadata": {
    "colab": {
     "base_uri": "https://localhost:8080/",
     "height": 449
    },
    "id": "5MJXuNYDA9Ca",
    "outputId": "b276bac8-ae6a-4afa-a0d5-3d90f1caec5c",
    "tags": []
   },
   "outputs": [
    {
     "data": {
      "image/png": "[encoded data removed]",
      "text/plain": [
       "<Figure size 640x480 with 1 Axes>"
      ]
     },
     "metadata": {},
     "output_type": "display_data"
    }
   ],
   "source": [
    "plt.plot(time_data, velocity_data,'+')\n",
    "plt.plot(time_data, np.gradient(position_data, time_data, edge_order=2),'x')\n",
    "plt.plot(time_data, dxdt(time_data),'.')\n",
    "plt.xlabel(\"time\")\n",
    "plt.ylabel(\"velocity\")\n",
    "plt.show()"
   ]
  },
  {
   "cell_type": "code",
   "execution_count": null,
   "metadata": {},
   "outputs": [],
   "source": []
  }
 ],
 "metadata": {
  "colab": {
   "provenance": []
  },
  "kernelspec": {
   "display_name": "Python 3 (ipykernel)",
   "language": "python",
   "name": "python3"
  },
  "language_info": {
   "codemirror_mode": {
    "name": "ipython",
    "version": 3
   },
   "file_extension": ".py",
   "mimetype": "text/x-python",
   "name": "python",
   "nbconvert_exporter": "python",
   "pygments_lexer": "ipython3",
   "version": "3.11.0"
  }
 },
 "nbformat": 4,
 "nbformat_minor": 4
}
